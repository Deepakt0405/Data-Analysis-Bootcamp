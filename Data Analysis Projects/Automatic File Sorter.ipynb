{
 "cells": [
  {
   "cell_type": "markdown",
   "id": "69b6aac3-b7cc-4602-96b4-614a81024f1d",
   "metadata": {},
   "source": [
    "# Automatic File Sorter\n"
   ]
  },
  {
   "cell_type": "code",
   "execution_count": 2,
   "id": "4c38ee8e-3a53-4676-ae15-b254dca8d911",
   "metadata": {},
   "outputs": [],
   "source": [
    "import os, shutil"
   ]
  },
  {
   "cell_type": "code",
   "execution_count": null,
   "id": "c15f7be5-c546-4602-8b2f-49952879e2b7",
   "metadata": {},
   "outputs": [],
   "source": [
    "path = 'whatever your path is paste it here'"
   ]
  },
  {
   "cell_type": "code",
   "execution_count": null,
   "id": "b812fb38-efa6-451d-9920-80f98cbba1c3",
   "metadata": {},
   "outputs": [],
   "source": [
    "file_name = os.listdir(path)"
   ]
  },
  {
   "cell_type": "code",
   "execution_count": null,
   "id": "e644b689-ee3f-4a87-ba3a-91452d6fdb21",
   "metadata": {},
   "outputs": [],
   "source": [
    "folder_names = ['csv files', 'image files', 'text files']\n",
    "\n",
    "for loop in range(0,3):\n",
    "    if not os.path.exists(path + folder_names[loop]):\n",
    "        os.makedirs(path + folder_names[loop])\n",
    "\n",
    "for file in file_name:\n",
    "    if \".csv\" in file and not os.path.exists(path + \"csv files/\" + file): \n",
    "        shutil.move(path + file, path + \"csv files,\" + files)\n",
    "    elif \".png\" in file and not os.path.exists(path + \"image files/\" + file): \n",
    "        shutil.move(path + file, path + \"image files,\" + files)\n",
    "    elif \".txt\" in file and not os.path.exists(path + \"text files/\" + file): \n",
    "        shutil.move(path + file, path + \"text files,\" + files)"
   ]
  },
  {
   "cell_type": "code",
   "execution_count": null,
   "id": "8c7f23d9-0e5a-43b4-bcc7-fc7b109c5879",
   "metadata": {},
   "outputs": [],
   "source": []
  },
  {
   "cell_type": "code",
   "execution_count": null,
   "id": "55a8485d-d332-4b2a-99c4-46cc3031a1d6",
   "metadata": {},
   "outputs": [],
   "source": []
  },
  {
   "cell_type": "code",
   "execution_count": null,
   "id": "cc16b6d2-937e-47a6-84ba-facc09ea96bf",
   "metadata": {},
   "outputs": [],
   "source": []
  },
  {
   "cell_type": "code",
   "execution_count": null,
   "id": "a76dcd8e-f13d-4195-b556-aaf959e9d15a",
   "metadata": {},
   "outputs": [],
   "source": []
  },
  {
   "cell_type": "code",
   "execution_count": null,
   "id": "5497b11c-f6af-4fc3-94d5-dea72bcf6df0",
   "metadata": {},
   "outputs": [],
   "source": []
  },
  {
   "cell_type": "code",
   "execution_count": null,
   "id": "f7dbb2a5-3648-4c5d-a49d-af0985b2bf40",
   "metadata": {},
   "outputs": [],
   "source": []
  },
  {
   "cell_type": "code",
   "execution_count": null,
   "id": "88def8ad-fb58-4924-8c8d-9726c8d16ee7",
   "metadata": {},
   "outputs": [],
   "source": []
  },
  {
   "cell_type": "code",
   "execution_count": null,
   "id": "a383a8e7-e584-45ab-a57c-ffec3bf3ddce",
   "metadata": {},
   "outputs": [],
   "source": []
  }
 ],
 "metadata": {
  "kernelspec": {
   "display_name": "Python 3 (ipykernel)",
   "language": "python",
   "name": "python3"
  },
  "language_info": {
   "codemirror_mode": {
    "name": "ipython",
    "version": 3
   },
   "file_extension": ".py",
   "mimetype": "text/x-python",
   "name": "python",
   "nbconvert_exporter": "python",
   "pygments_lexer": "ipython3",
   "version": "3.12.4"
  }
 },
 "nbformat": 4,
 "nbformat_minor": 5
}
