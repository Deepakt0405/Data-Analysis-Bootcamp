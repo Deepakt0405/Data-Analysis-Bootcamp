{
 "cells": [
  {
   "cell_type": "markdown",
   "id": "a9d65124-c3d2-4ef3-9bdb-1f0ab34a6b70",
   "metadata": {},
   "source": [
    "# Amazon Web Scraping Project"
   ]
  },
  {
   "cell_type": "code",
   "execution_count": 5,
   "id": "bf0c2aff-1cfc-45fc-91d8-00a2c7b7fd3e",
   "metadata": {},
   "outputs": [],
   "source": [
    "# import libraries\n",
    "\n",
    "from bs4 import BeautifulSoup\n",
    "import requests\n",
    "import time\n",
    "import smtplib  # smtplib is  use to send emails\n",
    "import datetime"
   ]
  },
  {
   "cell_type": "code",
   "execution_count": 7,
   "id": "d42e448d-1e98-473c-ae56-d300f305dfa4",
   "metadata": {},
   "outputs": [
    {
     "name": "stdout",
     "output_type": "stream",
     "text": [
      "\n",
      "             OnePlus Nord 4 5G (Oasis Green, 8GB RAM, 128GB Storage)\n",
      "            \n",
      "\n",
      "                                 29,999\n",
      "                                 \n",
      "                                  .\n",
      "                                 \n",
      "\n"
     ]
    }
   ],
   "source": [
    "# Conncect to the website and pull in the data\n",
    "\n",
    "URL = 'https://www.amazon.in/dp/B0D7VH5RL6/ref=QAHzEditorial_en_IN_1?pf_rd_r=RS2JEMY1G0VWHXZ3NREP&pf_rd_p=c40682b3-8306-49ed-803d-1ddb795e524d&pf_rd_m=A1VBAL9TL5WCBF&pf_rd_s=merchandised-search-8&pf_rd_t=&pf_rd_i=1389401031&th=1'\n",
    "\n",
    "headers = {\"User-Agent\": \"Mozilla/5.0 (Macintosh; Intel Mac OS X 10_15_7) AppleWebKit/537.36 (KHTML, like Gecko) Chrome/126.0.0.0 Safari/537.36\"}\n",
    "\n",
    "page = requests.get(URL, headers = headers)\n",
    "\n",
    "soup1 = BeautifulSoup(page.content, \"html.parser\")\n",
    "\n",
    "soup2 = BeautifulSoup(soup1.prettify(), \"html.parser\")\n",
    "\n",
    "title = soup2.find(id ='productTitle')\n",
    "if title:\n",
    "    title = title.get_text()\n",
    "else:\n",
    "    title = \"Title not found\"\n",
    "\n",
    "price = soup2.find('span', class_='a-price-whole')  # Example class name\n",
    "if price:\n",
    "    price = price.get_text()\n",
    "else:\n",
    "    price = \"Price not found\"\n",
    "\n",
    "\n",
    "print(title)\n",
    "print(price)"
   ]
  },
  {
   "cell_type": "code",
   "execution_count": 11,
   "id": "06d99da4-1297-463f-bc4b-c9d64cbc5d32",
   "metadata": {},
   "outputs": [
    {
     "name": "stdout",
     "output_type": "stream",
     "text": [
      "OnePlus Nord 4 5G (Oasis Green, 8GB RAM, 128GB Storage)\n",
      "29,999\n"
     ]
    }
   ],
   "source": [
    "# Clean up the data little bit\n",
    "\n",
    "title = title.strip()\n",
    "price = price.strip().replace('.', '')        # using replace function because unwanted period sign(.) is coming so converting it to string and then remove it\n",
    "\n",
    "print(title)\n",
    "print(price)"
   ]
  },
  {
   "cell_type": "code",
   "execution_count": 13,
   "id": "e7926fbe-9050-4e28-94bc-0f80d7b6936d",
   "metadata": {},
   "outputs": [
    {
     "name": "stdout",
     "output_type": "stream",
     "text": [
      "2024-08-22\n"
     ]
    }
   ],
   "source": [
    "# Create a Timestamp for your output to track when data was collected\n",
    "\n",
    "import datetime\n",
    "today = datetime.date.today()\n",
    "\n",
    "print(today)"
   ]
  },
  {
   "cell_type": "code",
   "execution_count": 15,
   "id": "55c7dca2-32af-4970-9745-ca88d06a54ff",
   "metadata": {},
   "outputs": [],
   "source": [
    "# Create CSV and write headers and data into the file\n",
    "\n",
    "# Import csv and write all headers you wanted\n",
    "import csv\n",
    "header = ['Title', 'Price', 'Date']\n",
    "data = [title, price, today]\n",
    "\n",
    "# Create csv file to insert data into it\n",
    "with open ('AmazonWebScraperDataset.csv', 'w', newline = '', encoding = 'UTF8') as f:\n",
    "    # Used w for writing data\n",
    "    # Used newline because when we insert the data into csv it doesnot have space between each csv\n",
    "    # Inserting data to csv\n",
    "    writer = csv.writer(f)\n",
    "    writer.writerow(header)\n",
    "    writer.writerow(data)"
   ]
  },
  {
   "cell_type": "code",
   "execution_count": 17,
   "id": "67f546f1-a497-42e1-8b6b-9c9b927a00c8",
   "metadata": {},
   "outputs": [
    {
     "name": "stdout",
     "output_type": "stream",
     "text": [
      "                                               Title   Price        Date\n",
      "0  OnePlus Nord 4 5G (Oasis Green, 8GB RAM, 128GB...  29,999  2024-08-22\n"
     ]
    }
   ],
   "source": [
    "# Import pandas to read csv file\n",
    "\n",
    "import pandas as pd\n",
    "df = pd.read_csv(r'/Users/deepaktiwari/Python/AmazonWebScraperDataset.csv')\n",
    "print(df)"
   ]
  },
  {
   "cell_type": "code",
   "execution_count": 19,
   "id": "f30da3c7-135e-4481-bf10-fe40e4efa1d8",
   "metadata": {},
   "outputs": [],
   "source": [
    "# Now we are appending data to the csv\n",
    "with open ('AmazonWebScraperDataset.csv', 'a+', newline = '', encoding = 'UTF8') as f:\n",
    "    # Used a+ for appending data\n",
    "    # Used newline because when we insert the data into csv it doesnot have space between each csv\n",
    "    # Inserting data to csv\n",
    "    writer = csv.writer(f)\n",
    "    writer.writerow(data)"
   ]
  },
  {
   "cell_type": "code",
   "execution_count": 26,
   "id": "99799239-a11d-4073-ae3b-58a5ca33892b",
   "metadata": {},
   "outputs": [],
   "source": [
    "# Now we are going to automate this so that it will update daily automatically and we dont have to do it daily manually\n",
    "\n",
    "#Combine all of the above code into one function\n",
    "\n",
    "def check_price():\n",
    "    URL = 'https://www.amazon.in/dp/B0D7VH5RL6/ref=QAHzEditorial_en_IN_1?pf_rd_r=RS2JEMY1G0VWHXZ3NREP&pf_rd_p=c40682b3-8306-49ed-803d-1ddb795e524d&pf_rd_m=A1VBAL9TL5WCBF&pf_rd_s=merchandised-search-8&pf_rd_t=&pf_rd_i=1389401031&th=1'\n",
    "\n",
    "    headers = {\"User-Agent\": \"Mozilla/5.0 (Macintosh; Intel Mac OS X 10_15_7) AppleWebKit/537.36 (KHTML, like Gecko) Chrome/126.0.0.0 Safari/537.36\"}\n",
    "\n",
    "    page = requests.get(URL, headers = headers)\n",
    "\n",
    "    soup1 = BeautifulSoup(page.content, \"html.parser\")\n",
    "\n",
    "    soup2 = BeautifulSoup(soup1.prettify(), \"html.parser\")\n",
    "\n",
    "    title = soup2.find(id ='productTitle')\n",
    "    if title:\n",
    "        title = title.get_text()\n",
    "    else:\n",
    "        title = \"Title not found\"\n",
    "\n",
    "    price = soup2.find('span', class_='a-price-whole')  # Example class name\n",
    "    if price:\n",
    "        price = price.get_text()\n",
    "    else:\n",
    "        price = \"Price not found\"\n",
    "\n",
    "    title = title.strip()\n",
    "    price = price.strip().replace('.', '') \n",
    "\n",
    "    import datetime\n",
    "    today = datetime.date.today()\n",
    "\n",
    "    import csv\n",
    "    header = ['Title', 'Price', 'Date']\n",
    "    data = [title, price, today]\n",
    "\n",
    "    with open ('AmazonWebScraperDataset.csv', 'a+', newline = '', encoding = 'UTF8') as f:\n",
    "        writer = csv.writer(f)\n",
    "        writer.writerow(data)\n",
    "\n",
    "    if(price <= '25,000'):\n",
    "        send_mail()"
   ]
  },
  {
   "cell_type": "code",
   "execution_count": null,
   "id": "a47f6a81-7d6e-4bcb-b066-b4cca9343495",
   "metadata": {},
   "outputs": [],
   "source": [
    "# Runs check_price after a set time and inputs data into your CSV\n",
    "\n",
    "while(True):\n",
    "    check_price()\n",
    "    time.sleep(86400)"
   ]
  },
  {
   "cell_type": "code",
   "execution_count": null,
   "id": "1bf7e3bb-af56-44e8-a720-e04b8a3e9e54",
   "metadata": {},
   "outputs": [],
   "source": [
    "import pandas as pd\n",
    "\n",
    "df = pd.read_csv(r'/Users/deepaktiwari/Python/AmazonWebScraperDataset.csv')\n",
    "\n",
    "print(df)"
   ]
  },
  {
   "cell_type": "code",
   "execution_count": null,
   "id": "a32afe05-45b5-49f4-bcec-c6515ce55621",
   "metadata": {},
   "outputs": [],
   "source": [
    "# If uou want to try sending yourself an email (email alert kind of thing) when a price hits below a certain level you can try it\n",
    "# out with this script\n",
    "\n",
    "def send_mail():\n",
    "    server = smtplib.SMTP_SSL('smtp.gmail.com', 465)\n",
    "    server.ehlo()\n",
    "    #server.starttls()\n",
    "    server.ehlo()\n",
    "    server.login('tiwarideepak0405@gmail.com','xxxxxxxxxxxxxx')\n",
    "    subject = \"The Shirt you want is below 25,000! Now is your chance to buy!\"\n",
    "    body = \"Deepak, This is the moment we have been waiting for. Now is your chance to pick up the shirt of your dreams. Don't mess it up!\"\n",
    "   \n",
    "    msg = f\"Subject: {subject}\\n\\n{body}\"\n",
    "    \n",
    "    server.sendmail(\n",
    "        'tiwarideepak0405@gmail.com',\n",
    "        msg\n",
    "    )"
   ]
  },
  {
   "cell_type": "code",
   "execution_count": null,
   "id": "2ac31cc1-0f77-4a4a-84e5-0bd9200d52f8",
   "metadata": {},
   "outputs": [],
   "source": []
  }
 ],
 "metadata": {
  "kernelspec": {
   "display_name": "Python 3 (ipykernel)",
   "language": "python",
   "name": "python3"
  },
  "language_info": {
   "codemirror_mode": {
    "name": "ipython",
    "version": 3
   },
   "file_extension": ".py",
   "mimetype": "text/x-python",
   "name": "python",
   "nbconvert_exporter": "python",
   "pygments_lexer": "ipython3",
   "version": "3.12.4"
  }
 },
 "nbformat": 4,
 "nbformat_minor": 5
}
