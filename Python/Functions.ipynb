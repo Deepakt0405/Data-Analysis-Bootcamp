{
 "cells": [
  {
   "cell_type": "markdown",
   "id": "9a5f0540-e946-4062-a48d-f00fdd6ef5aa",
   "metadata": {},
   "source": [
    "## Functions"
   ]
  },
  {
   "cell_type": "code",
   "execution_count": 3,
   "id": "9f3d4e84-75b2-4274-9a73-facc082a3e68",
   "metadata": {},
   "outputs": [
    {
     "name": "stdout",
     "output_type": "stream",
     "text": [
      "First function\n"
     ]
    }
   ],
   "source": [
    "def func():\n",
    "    print('First function')\n",
    "func()"
   ]
  },
  {
   "cell_type": "code",
   "execution_count": 5,
   "id": "25972486-8260-428f-a2b0-7b9799ffd80c",
   "metadata": {},
   "outputs": [
    {
     "name": "stdout",
     "output_type": "stream",
     "text": [
      "We did it!\n"
     ]
    }
   ],
   "source": [
    "def first_func():\n",
    "    print('We did it!')\n",
    "first_func()"
   ]
  },
  {
   "cell_type": "code",
   "execution_count": 9,
   "id": "a2abea57-c0f4-40db-a4c3-294f5507409f",
   "metadata": {},
   "outputs": [
    {
     "name": "stdout",
     "output_type": "stream",
     "text": [
      "4\n"
     ]
    }
   ],
   "source": [
    "def number_square(number):\n",
    "    print(number ** 2)\n",
    "number_square(2)"
   ]
  },
  {
   "cell_type": "code",
   "execution_count": 11,
   "id": "37f4a7ce-d89b-47dd-be29-e8917da3f7c7",
   "metadata": {},
   "outputs": [
    {
     "name": "stdout",
     "output_type": "stream",
     "text": [
      "125\n"
     ]
    }
   ],
   "source": [
    "def number_square_cust(number, power):\n",
    "    print(number ** power)\n",
    "number_square_cust(5,3)"
   ]
  },
  {
   "cell_type": "code",
   "execution_count": 13,
   "id": "9a925ce3-557c-4172-8843-228527a1346c",
   "metadata": {},
   "outputs": [
    {
     "name": "stdout",
     "output_type": "stream",
     "text": [
      "3\n"
     ]
    }
   ],
   "source": [
    "def number_args(*number):\n",
    "    print(number[0]+number[1])\n",
    "number_args(1,2,3,4)"
   ]
  },
  {
   "cell_type": "code",
   "execution_count": 15,
   "id": "577a2477-148a-48ab-8204-3597aef66783",
   "metadata": {},
   "outputs": [
    {
     "name": "stdout",
     "output_type": "stream",
     "text": [
      "15\n"
     ]
    }
   ],
   "source": [
    "args_tuple = (3,5,6,2,1)\n",
    "def number_args(*number):\n",
    "    print(number[0]*number[1])\n",
    "number_args(*args_tuple)"
   ]
  },
  {
   "cell_type": "code",
   "execution_count": 17,
   "id": "b2581305-12a0-42f8-96c9-c9722367013f",
   "metadata": {},
   "outputs": [
    {
     "name": "stdout",
     "output_type": "stream",
     "text": [
      "243\n"
     ]
    }
   ],
   "source": [
    "def number_square_cust(number, power):\n",
    "    print(number ** power)\n",
    "number_square_cust(power = 5, number = 3)"
   ]
  },
  {
   "cell_type": "code",
   "execution_count": 33,
   "id": "98b35332-9d3d-4fba-9861-dcd6a7c519f7",
   "metadata": {},
   "outputs": [
    {
     "name": "stdout",
     "output_type": "stream",
     "text": [
      "My number is: 2309 My second number is: 349\n"
     ]
    }
   ],
   "source": [
    "def number_kwarg(**number):\n",
    "    print('My number is: '+ number['integer'] + \" \" + 'My second number is: '+ number['integer2'])\n",
    "number_kwarg(integer='2309' , integer2='349')"
   ]
  }
 ],
 "metadata": {
  "kernelspec": {
   "display_name": "Python 3 (ipykernel)",
   "language": "python",
   "name": "python3"
  },
  "language_info": {
   "codemirror_mode": {
    "name": "ipython",
    "version": 3
   },
   "file_extension": ".py",
   "mimetype": "text/x-python",
   "name": "python",
   "nbconvert_exporter": "python",
   "pygments_lexer": "ipython3",
   "version": "3.12.4"
  }
 },
 "nbformat": 4,
 "nbformat_minor": 5
}
